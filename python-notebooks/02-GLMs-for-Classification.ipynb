{
 "cells": [
  {
   "cell_type": "markdown",
   "metadata": {},
   "source": [
    "# 02 - GLMs for Classification\n",
    "GLMs make excellent, flexible statistical models.  However, they also excel at making classification algorithms.  The purpose of this notebook is to illustrate how this might be done in Python.\n",
    "\n",
    "I give three examples of how GLMs may be used for classification:\n",
    "* Logistic regression\n",
    "* Multinomial logistic regression\n",
    "* Cumulative logistic regression"
   ]
  },
  {
   "cell_type": "code",
   "execution_count": 1,
   "metadata": {
    "collapsed": false
   },
   "outputs": [],
   "source": [
    "import numpy as np\n",
    "import pandas as pd\n",
    "import statsmodels.api as sm\n",
    "\n",
    "from sklearn.model_selection import train_test_split\n",
    "\n",
    "import seaborn as sns\n",
    "import matplotlib.pyplot as plt\n",
    "%matplotlib inline"
   ]
  },
  {
   "cell_type": "markdown",
   "metadata": {},
   "source": [
    "### Logistic Regression for Classification\n",
    "#### Data:\n",
    "For this example, I use the same data set from part 01: the `grad` data.  This is from [UCLA's IDRE module](https://stats.idre.ucla.edu/r/dae/logit-regression/), and here's its description:\n",
    "\n",
    " _A researcher is interested in how variables, such as GRE (Graduate Record Exam scores), GPA (grade point average) and prestige of the undergraduate institution, effect admission into graduate school. The response variable, admit/don’t admit, is a binary variable._"
   ]
  },
  {
   "cell_type": "code",
   "execution_count": 2,
   "metadata": {
    "collapsed": false
   },
   "outputs": [
    {
     "data": {
      "text/html": [
       "<div>\n",
       "<table border=\"1\" class=\"dataframe\">\n",
       "  <thead>\n",
       "    <tr style=\"text-align: right;\">\n",
       "      <th></th>\n",
       "      <th>admit</th>\n",
       "      <th>gre</th>\n",
       "      <th>gpa</th>\n",
       "      <th>rank</th>\n",
       "    </tr>\n",
       "  </thead>\n",
       "  <tbody>\n",
       "    <tr>\n",
       "      <th>0</th>\n",
       "      <td>0</td>\n",
       "      <td>380</td>\n",
       "      <td>3.61</td>\n",
       "      <td>3</td>\n",
       "    </tr>\n",
       "    <tr>\n",
       "      <th>1</th>\n",
       "      <td>1</td>\n",
       "      <td>660</td>\n",
       "      <td>3.67</td>\n",
       "      <td>3</td>\n",
       "    </tr>\n",
       "    <tr>\n",
       "      <th>2</th>\n",
       "      <td>1</td>\n",
       "      <td>800</td>\n",
       "      <td>4.00</td>\n",
       "      <td>1</td>\n",
       "    </tr>\n",
       "    <tr>\n",
       "      <th>3</th>\n",
       "      <td>1</td>\n",
       "      <td>640</td>\n",
       "      <td>3.19</td>\n",
       "      <td>4</td>\n",
       "    </tr>\n",
       "    <tr>\n",
       "      <th>4</th>\n",
       "      <td>0</td>\n",
       "      <td>520</td>\n",
       "      <td>2.93</td>\n",
       "      <td>4</td>\n",
       "    </tr>\n",
       "  </tbody>\n",
       "</table>\n",
       "</div>"
      ],
      "text/plain": [
       "   admit  gre   gpa  rank\n",
       "0      0  380  3.61     3\n",
       "1      1  660  3.67     3\n",
       "2      1  800  4.00     1\n",
       "3      1  640  3.19     4\n",
       "4      0  520  2.93     4"
      ]
     },
     "execution_count": 2,
     "metadata": {},
     "output_type": "execute_result"
    }
   ],
   "source": [
    "grad = pd.read_csv(\"https://stats.idre.ucla.edu/stat/data/binary.csv\")\n",
    "grad.head()"
   ]
  },
  {
   "cell_type": "code",
   "execution_count": 3,
   "metadata": {
    "collapsed": false
   },
   "outputs": [
    {
     "data": {
      "text/plain": [
       "0    273\n",
       "1    127\n",
       "Name: admit, dtype: int64"
      ]
     },
     "execution_count": 3,
     "metadata": {},
     "output_type": "execute_result"
    }
   ],
   "source": [
    "grad.admit.value_counts()"
   ]
  },
  {
   "cell_type": "code",
   "execution_count": 4,
   "metadata": {
    "collapsed": true
   },
   "outputs": [],
   "source": [
    "# Split my data into training and test.\n",
    "indep_vars = ['gre', 'gpa', 'rank']\n",
    "x_train, x_test, y_train, y_test = train_test_split(grad[indep_vars],\n",
    "                                                   grad.admit,\n",
    "                                                   test_size = 0.3,\n",
    "                                                   random_state = 1234)\n",
    "x_train = sm.add_constant(x_train)\n",
    "x_test = sm.add_constant(x_test)"
   ]
  },
  {
   "cell_type": "code",
   "execution_count": 5,
   "metadata": {
    "collapsed": false
   },
   "outputs": [],
   "source": [
    "# I build the same logistic regression model as from part 01.\n",
    "# Logit link is assumed by default\n",
    "glm_logit = sm.GLM(y_train, \n",
    "                   x_train,\n",
    "                   sm.families.Binomial()).fit()"
   ]
  },
  {
   "cell_type": "code",
   "execution_count": 6,
   "metadata": {
    "collapsed": false
   },
   "outputs": [
    {
     "data": {
      "text/plain": [
       "217    0.559869\n",
       "349    0.360827\n",
       "188    0.368102\n",
       "267    0.312586\n",
       "222    0.482989\n",
       "dtype: float64"
      ]
     },
     "execution_count": 6,
     "metadata": {},
     "output_type": "execute_result"
    }
   ],
   "source": [
    "# The fitted values are stored as probabilities.\n",
    "# i.e., They are the probabilities of the response variable being a \"success\" (coded as 1).\n",
    "yhat_train = glm_logit.fittedvalues\n",
    "yhat_train.head()"
   ]
  },
  {
   "cell_type": "code",
   "execution_count": 7,
   "metadata": {
    "collapsed": false
   },
   "outputs": [
    {
     "data": {
      "text/plain": [
       "217    1\n",
       "349    0\n",
       "188    0\n",
       "267    0\n",
       "222    0\n",
       "dtype: int32"
      ]
     },
     "execution_count": 7,
     "metadata": {},
     "output_type": "execute_result"
    }
   ],
   "source": [
    "# I let my threshold value be 1/2, which is typical.\n",
    "# So, any probability above 1/2 is more likely to be a \"success\", and anything below 1/2 is more likely to be a \"failure\".\n",
    "# If you had some known reason, you could choose something besides 1/2, but that's rare.\n",
    "p_thresh = 0.5\n",
    "yhat_train = (yhat_train > p_thresh) * 1\n",
    "yhat_train.head()"
   ]
  },
  {
   "cell_type": "code",
   "execution_count": 8,
   "metadata": {
    "collapsed": false
   },
   "outputs": [
    {
     "data": {
      "text/plain": [
       "0.67500000000000004"
      ]
     },
     "execution_count": 8,
     "metadata": {},
     "output_type": "execute_result"
    }
   ],
   "source": [
    "# Training classification error\n",
    "np.mean(yhat_train == y_train)"
   ]
  },
  {
   "cell_type": "code",
   "execution_count": 9,
   "metadata": {
    "collapsed": false
   },
   "outputs": [
    {
     "data": {
      "text/plain": [
       "0.76666666666666672"
      ]
     },
     "execution_count": 9,
     "metadata": {},
     "output_type": "execute_result"
    }
   ],
   "source": [
    "# Test classification error\n",
    "yhat_test = glm_logit.predict(x_test)\n",
    "yhat_test = pd.Series(yhat_test)\n",
    "yhat_test = (yhat_test > p_thresh) * 1\n",
    "np.mean(yhat_test == y_test) # Not bad at all!"
   ]
  },
  {
   "cell_type": "markdown",
   "metadata": {},
   "source": [
    "### Multinomial Logistic Regression\n",
    "Using GLMs to classify is not limited to binomial response data.  The multinomial distribution can be used to help classify a response variable with more than 2 levels (also known as \"polytomous data\").\n",
    "\n",
    "Recall the formal definition of a $K$-class multinomial logistic regression:\n",
    "\n",
    "$Y_i \\sim \\text{iid Mult}(1, \\mathbf{\\pi})$\n",
    "\n",
    "$\\log\\left(\\frac{p_1}{p_K}\\right) = \\beta_{01} + \\beta_{11} x_1 + \\cdots + \\beta_{p1} x_p$\n",
    "\n",
    "$\\log\\left(\\frac{p_2}{p_K}\\right) = \\beta_{02} + \\beta_{12} x_1 + \\cdots + \\beta_{p2} x_p$\n",
    "\n",
    "$\\cdots$\n",
    "\n",
    "$\\log\\left(\\frac{p_{K-1}}{p_K}\\right) = \\beta_{0K-1} + \\beta_{1K-1} x_1 + \\cdots + \\beta_{pK-1} x_p$\n",
    "\n",
    "#### Data\n",
    "This time, I'm using the classic `iris` dataset.  In Python, this public-domain dataset can be found in the `seaborn` plotting package.  The data consist of four flower characteristcs, and the response variable, flower type.  There are 3 classes this can take."
   ]
  },
  {
   "cell_type": "code",
   "execution_count": 10,
   "metadata": {
    "collapsed": false
   },
   "outputs": [
    {
     "data": {
      "text/html": [
       "<div>\n",
       "<table border=\"1\" class=\"dataframe\">\n",
       "  <thead>\n",
       "    <tr style=\"text-align: right;\">\n",
       "      <th></th>\n",
       "      <th>sepal_length</th>\n",
       "      <th>sepal_width</th>\n",
       "      <th>petal_length</th>\n",
       "      <th>petal_width</th>\n",
       "      <th>species</th>\n",
       "    </tr>\n",
       "  </thead>\n",
       "  <tbody>\n",
       "    <tr>\n",
       "      <th>0</th>\n",
       "      <td>5.1</td>\n",
       "      <td>3.5</td>\n",
       "      <td>1.4</td>\n",
       "      <td>0.2</td>\n",
       "      <td>setosa</td>\n",
       "    </tr>\n",
       "    <tr>\n",
       "      <th>1</th>\n",
       "      <td>4.9</td>\n",
       "      <td>3.0</td>\n",
       "      <td>1.4</td>\n",
       "      <td>0.2</td>\n",
       "      <td>setosa</td>\n",
       "    </tr>\n",
       "    <tr>\n",
       "      <th>2</th>\n",
       "      <td>4.7</td>\n",
       "      <td>3.2</td>\n",
       "      <td>1.3</td>\n",
       "      <td>0.2</td>\n",
       "      <td>setosa</td>\n",
       "    </tr>\n",
       "    <tr>\n",
       "      <th>3</th>\n",
       "      <td>4.6</td>\n",
       "      <td>3.1</td>\n",
       "      <td>1.5</td>\n",
       "      <td>0.2</td>\n",
       "      <td>setosa</td>\n",
       "    </tr>\n",
       "    <tr>\n",
       "      <th>4</th>\n",
       "      <td>5.0</td>\n",
       "      <td>3.6</td>\n",
       "      <td>1.4</td>\n",
       "      <td>0.2</td>\n",
       "      <td>setosa</td>\n",
       "    </tr>\n",
       "  </tbody>\n",
       "</table>\n",
       "</div>"
      ],
      "text/plain": [
       "   sepal_length  sepal_width  petal_length  petal_width species\n",
       "0           5.1          3.5           1.4          0.2  setosa\n",
       "1           4.9          3.0           1.4          0.2  setosa\n",
       "2           4.7          3.2           1.3          0.2  setosa\n",
       "3           4.6          3.1           1.5          0.2  setosa\n",
       "4           5.0          3.6           1.4          0.2  setosa"
      ]
     },
     "execution_count": 10,
     "metadata": {},
     "output_type": "execute_result"
    }
   ],
   "source": [
    "iris = sns.load_dataset('iris')\n",
    "iris.head()"
   ]
  },
  {
   "cell_type": "code",
   "execution_count": 11,
   "metadata": {
    "collapsed": false
   },
   "outputs": [
    {
     "data": {
      "text/plain": [
       "setosa        50\n",
       "virginica     50\n",
       "versicolor    50\n",
       "Name: species, dtype: int64"
      ]
     },
     "execution_count": 11,
     "metadata": {},
     "output_type": "execute_result"
    }
   ],
   "source": [
    "# The class lables are the 'species'.  There are three.\n",
    "iris.species.value_counts()"
   ]
  },
  {
   "cell_type": "code",
   "execution_count": 12,
   "metadata": {
    "collapsed": false
   },
   "outputs": [
    {
     "data": {
      "text/plain": [
       "<seaborn.axisgrid.FacetGrid at 0x20e0a0fa198>"
      ]
     },
     "execution_count": 12,
     "metadata": {},
     "output_type": "execute_result"
    },
    {
     "data": {
      "image/png": "[encoded data removed]",
      "text/plain": [
       "<matplotlib.figure.Figure at 0x20e0a0fa208>"
      ]
     },
     "metadata": {},
     "output_type": "display_data"
    },
    {
     "data": {
      "image/png": "[encoded data removed]",
      "text/plain": [
       "<matplotlib.figure.Figure at 0x20e0a122cc0>"
      ]
     },
     "metadata": {},
     "output_type": "display_data"
    }
   ],
   "source": [
    "# Notice that these classes are VERY easy to separate.\n",
    "sns.lmplot('sepal_length', 'sepal_width', \n",
    "           data = iris, \n",
    "           hue = 'species',\n",
    "           fit_reg = False)\n",
    "\n",
    "sns.lmplot('petal_length', 'petal_width', \n",
    "           data = iris, \n",
    "           hue = 'species',\n",
    "           fit_reg = False)"
   ]
  },
  {
   "cell_type": "code",
   "execution_count": 13,
   "metadata": {
    "collapsed": false
   },
   "outputs": [],
   "source": [
    "# Training/Test split\n",
    "# Note that I'm only using 2 of the 4 variables.  This is because the iris dataset is relatively small (150 observations),\n",
    "# and so using all four variables with ~100 training observations resulting in convergence errors.\n",
    "indep_vars = ['sepal_length', 'sepal_width'] #, 'petal_length', 'petal_width']\n",
    "\n",
    "x_train, x_test, y_train, y_test = train_test_split(iris[indep_vars],\n",
    "                                                   iris.species,\n",
    "                                                   test_size = 0.3,\n",
    "                                                   random_state = 1234)\n",
    "\n",
    "x_train = sm.add_constant(x_train)\n",
    "x_test = sm.add_constant(x_test)"
   ]
  },
  {
   "cell_type": "code",
   "execution_count": 14,
   "metadata": {
    "collapsed": false
   },
   "outputs": [
    {
     "name": "stdout",
     "output_type": "stream",
     "text": [
      "Warning: Maximum number of iterations has been exceeded.\n",
      "         Current function value: 0.397766\n",
      "         Iterations: 35\n"
     ]
    },
    {
     "name": "stderr",
     "output_type": "stream",
     "text": [
      "C:\\Users\\Timothy\\Anaconda3\\lib\\site-packages\\statsmodels\\discrete\\discrete_model.py:580: VisibleDeprecationWarning: using a non-integer number instead of an integer will result in an error in the future\n",
      "  start_params = np.zeros((self.K * (self.J-1)))\n",
      "C:\\Users\\Timothy\\Anaconda3\\lib\\site-packages\\statsmodels\\discrete\\discrete_model.py:1840: VisibleDeprecationWarning: using a non-integer number instead of an integer will result in an error in the future\n",
      "  params = params.reshape(self.K, -1, order='F')\n",
      "C:\\Users\\Timothy\\Anaconda3\\lib\\site-packages\\statsmodels\\discrete\\discrete_model.py:1756: VisibleDeprecationWarning: using a non-integer number instead of an integer will result in an error in the future\n",
      "  params = params.reshape(self.K, -1, order='F')\n",
      "C:\\Users\\Timothy\\Anaconda3\\lib\\site-packages\\statsmodels\\discrete\\discrete_model.py:1697: VisibleDeprecationWarning: using a non-integer number instead of an integer will result in an error in the future\n",
      "  params = params.reshape(self.K, -1, order='F')\n",
      "C:\\Users\\Timothy\\Anaconda3\\lib\\site-packages\\statsmodels\\base\\model.py:466: ConvergenceWarning: Maximum Likelihood optimization failed to converge. Check mle_retvals\n",
      "  \"Check mle_retvals\", ConvergenceWarning)\n",
      "C:\\Users\\Timothy\\Anaconda3\\lib\\site-packages\\statsmodels\\discrete\\discrete_model.py:588: VisibleDeprecationWarning: using a non-integer number instead of an integer will result in an error in the future\n",
      "  mnfit.params = mnfit.params.reshape(self.K, -1, order='F')\n"
     ]
    }
   ],
   "source": [
    "# Train the model\n",
    "multi_logit = sm.MNLogit(y_train, x_train).fit()"
   ]
  },
  {
   "cell_type": "code",
   "execution_count": 15,
   "metadata": {
    "collapsed": false
   },
   "outputs": [
    {
     "name": "stderr",
     "output_type": "stream",
     "text": [
      "C:\\Users\\Timothy\\Anaconda3\\lib\\site-packages\\statsmodels\\discrete\\discrete_model.py:1697: VisibleDeprecationWarning: using a non-integer number instead of an integer will result in an error in the future\n",
      "  params = params.reshape(self.K, -1, order='F')\n",
      "C:\\Users\\Timothy\\Anaconda3\\lib\\site-packages\\statsmodels\\discrete\\discrete_model.py:580: VisibleDeprecationWarning: using a non-integer number instead of an integer will result in an error in the future\n",
      "  start_params = np.zeros((self.K * (self.J-1)))\n",
      "C:\\Users\\Timothy\\Anaconda3\\lib\\site-packages\\statsmodels\\discrete\\discrete_model.py:1840: VisibleDeprecationWarning: using a non-integer number instead of an integer will result in an error in the future\n",
      "  params = params.reshape(self.K, -1, order='F')\n",
      "C:\\Users\\Timothy\\Anaconda3\\lib\\site-packages\\statsmodels\\discrete\\discrete_model.py:1756: VisibleDeprecationWarning: using a non-integer number instead of an integer will result in an error in the future\n",
      "  params = params.reshape(self.K, -1, order='F')\n",
      "C:\\Users\\Timothy\\Anaconda3\\lib\\site-packages\\statsmodels\\discrete\\discrete_model.py:588: VisibleDeprecationWarning: using a non-integer number instead of an integer will result in an error in the future\n",
      "  mnfit.params = mnfit.params.reshape(self.K, -1, order='F')\n"
     ]
    },
    {
     "data": {
      "text/html": [
       "<table class=\"simpletable\">\n",
       "<caption>MNLogit Regression Results</caption>\n",
       "<tr>\n",
       "  <th>Dep. Variable:</th>      <td>species</td>     <th>  No. Observations:  </th>  <td>   105</td>  \n",
       "</tr>\n",
       "<tr>\n",
       "  <th>Model:</th>              <td>MNLogit</td>     <th>  Df Residuals:      </th>  <td>    99</td>  \n",
       "</tr>\n",
       "<tr>\n",
       "  <th>Method:</th>               <td>MLE</td>       <th>  Df Model:          </th>  <td>     4</td>  \n",
       "</tr>\n",
       "<tr>\n",
       "  <th>Date:</th>          <td>Thu, 20 Jul 2017</td> <th>  Pseudo R-squ.:     </th>  <td>0.6373</td>  \n",
       "</tr>\n",
       "<tr>\n",
       "  <th>Time:</th>              <td>18:28:13</td>     <th>  Log-Likelihood:    </th> <td> -41.765</td> \n",
       "</tr>\n",
       "<tr>\n",
       "  <th>converged:</th>           <td>False</td>      <th>  LL-Null:           </th> <td> -115.16</td> \n",
       "</tr>\n",
       "<tr>\n",
       "  <th> </th>                      <td> </td>        <th>  LLR p-value:       </th> <td>9.957e-31</td>\n",
       "</tr>\n",
       "</table>\n",
       "<table class=\"simpletable\">\n",
       "<tr>\n",
       "  <th>species=versicolor</th>    <th>coef</th>     <th>std err</th>      <th>z</th>      <th>P>|z|</th> <th>[95.0% Conf. Int.]</th> \n",
       "</tr>\n",
       "<tr>\n",
       "  <th>const</th>              <td> -331.0518</td> <td> 2.24e+04</td> <td>   -0.015</td> <td> 0.988</td> <td>-4.43e+04  4.36e+04</td>\n",
       "</tr>\n",
       "<tr>\n",
       "  <th>sepal_length</th>       <td>  130.4042</td> <td> 7.34e+04</td> <td>    0.002</td> <td> 0.999</td> <td>-1.44e+05  1.44e+05</td>\n",
       "</tr>\n",
       "<tr>\n",
       "  <th>sepal_width</th>        <td> -117.4588</td> <td> 1.46e+05</td> <td>   -0.001</td> <td> 0.999</td> <td>-2.86e+05  2.85e+05</td>\n",
       "</tr>\n",
       "<tr>\n",
       "  <th>species=virginica</th>    <th>coef</th>     <th>std err</th>      <th>z</th>      <th>P>|z|</th> <th>[95.0% Conf. Int.]</th> \n",
       "</tr>\n",
       "<tr>\n",
       "  <th>const</th>             <td> -341.4690</td> <td> 2.24e+04</td> <td>   -0.015</td> <td> 0.988</td> <td>-4.43e+04  4.36e+04</td>\n",
       "</tr>\n",
       "<tr>\n",
       "  <th>sepal_length</th>      <td>  131.9428</td> <td> 7.34e+04</td> <td>    0.002</td> <td> 0.999</td> <td>-1.44e+05  1.44e+05</td>\n",
       "</tr>\n",
       "<tr>\n",
       "  <th>sepal_width</th>       <td> -117.1157</td> <td> 1.46e+05</td> <td>   -0.001</td> <td> 0.999</td> <td>-2.86e+05  2.85e+05</td>\n",
       "</tr>\n",
       "</table>"
      ],
      "text/plain": [
       "<class 'statsmodels.iolib.summary.Summary'>\n",
       "\"\"\"\n",
       "                          MNLogit Regression Results                          \n",
       "==============================================================================\n",
       "Dep. Variable:                species   No. Observations:                  105\n",
       "Model:                        MNLogit   Df Residuals:                       99\n",
       "Method:                           MLE   Df Model:                            4\n",
       "Date:                Thu, 20 Jul 2017   Pseudo R-squ.:                  0.6373\n",
       "Time:                        18:28:13   Log-Likelihood:                -41.765\n",
       "converged:                      False   LL-Null:                       -115.16\n",
       "                                        LLR p-value:                 9.957e-31\n",
       "=====================================================================================\n",
       "species=versicolor       coef    std err          z      P>|z|      [95.0% Conf. Int.]\n",
       "--------------------------------------------------------------------------------------\n",
       "const               -331.0518   2.24e+04     -0.015      0.988     -4.43e+04  4.36e+04\n",
       "sepal_length         130.4042   7.34e+04      0.002      0.999     -1.44e+05  1.44e+05\n",
       "sepal_width         -117.4588   1.46e+05     -0.001      0.999     -2.86e+05  2.85e+05\n",
       "--------------------------------------------------------------------------------------\n",
       "species=virginica       coef    std err          z      P>|z|      [95.0% Conf. Int.]\n",
       "-------------------------------------------------------------------------------------\n",
       "const              -341.4690   2.24e+04     -0.015      0.988     -4.43e+04  4.36e+04\n",
       "sepal_length        131.9428   7.34e+04      0.002      0.999     -1.44e+05  1.44e+05\n",
       "sepal_width        -117.1157   1.46e+05     -0.001      0.999     -2.86e+05  2.85e+05\n",
       "=====================================================================================\n",
       "\"\"\""
      ]
     },
     "execution_count": 15,
     "metadata": {},
     "output_type": "execute_result"
    }
   ],
   "source": [
    "multi_logit.summary()"
   ]
  },
  {
   "cell_type": "code",
   "execution_count": 16,
   "metadata": {
    "collapsed": false
   },
   "outputs": [
    {
     "data": {
      "text/html": [
       "<div>\n",
       "<table border=\"1\" class=\"dataframe\">\n",
       "  <thead>\n",
       "    <tr style=\"text-align: right;\">\n",
       "      <th></th>\n",
       "      <th>setosa</th>\n",
       "      <th>versicolor</th>\n",
       "      <th>virginica</th>\n",
       "    </tr>\n",
       "  </thead>\n",
       "  <tbody>\n",
       "    <tr>\n",
       "      <th>0</th>\n",
       "      <td>1.000000e+00</td>\n",
       "      <td>3.940535e-25</td>\n",
       "      <td>6.419922e-26</td>\n",
       "    </tr>\n",
       "    <tr>\n",
       "      <th>1</th>\n",
       "      <td>8.509444e-43</td>\n",
       "      <td>6.301045e-01</td>\n",
       "      <td>3.698955e-01</td>\n",
       "    </tr>\n",
       "    <tr>\n",
       "      <th>2</th>\n",
       "      <td>6.560613e-84</td>\n",
       "      <td>2.848157e-01</td>\n",
       "      <td>7.151843e-01</td>\n",
       "    </tr>\n",
       "    <tr>\n",
       "      <th>3</th>\n",
       "      <td>4.215590e-141</td>\n",
       "      <td>7.876048e-02</td>\n",
       "      <td>9.212395e-01</td>\n",
       "    </tr>\n",
       "    <tr>\n",
       "      <th>4</th>\n",
       "      <td>8.079912e-79</td>\n",
       "      <td>2.778796e-01</td>\n",
       "      <td>7.221204e-01</td>\n",
       "    </tr>\n",
       "  </tbody>\n",
       "</table>\n",
       "</div>"
      ],
      "text/plain": [
       "          setosa    versicolor     virginica\n",
       "0   1.000000e+00  3.940535e-25  6.419922e-26\n",
       "1   8.509444e-43  6.301045e-01  3.698955e-01\n",
       "2   6.560613e-84  2.848157e-01  7.151843e-01\n",
       "3  4.215590e-141  7.876048e-02  9.212395e-01\n",
       "4   8.079912e-79  2.778796e-01  7.221204e-01"
      ]
     },
     "execution_count": 16,
     "metadata": {},
     "output_type": "execute_result"
    }
   ],
   "source": [
    "# Get training and test predictions (as probabilities)\n",
    "fit_train = multi_logit.predict(x_train)\n",
    "fit_test = multi_logit.predict(x_test)\n",
    "\n",
    "colnames = ['setosa', 'versicolor', 'virginica']\n",
    "pd.DataFrame(fit_train, columns = colnames).head()"
   ]
  },
  {
   "cell_type": "code",
   "execution_count": 17,
   "metadata": {
    "collapsed": false
   },
   "outputs": [
    {
     "data": {
      "text/plain": [
       "array([0, 1, 2, 2, 2, 0, 2, 2, 2, 1, 1, 1, 2, 2, 0, 0, 2, 1, 2, 0, 0, 0, 2,\n",
       "       1, 1, 2, 1, 0, 2, 0, 2, 0, 1, 1, 0, 1, 0, 2, 2, 1, 1, 0, 0, 1, 1, 1,\n",
       "       0, 2, 2, 1, 2, 2, 0, 0, 0, 1, 1, 0, 1, 1, 2, 1, 1, 0, 2, 1, 0, 0, 2,\n",
       "       1, 1, 1, 1, 0, 1, 2, 2, 2, 2, 0, 0, 0, 0, 2, 2, 2, 0, 0, 2, 2, 1, 1,\n",
       "       1, 2, 2, 2, 0, 2, 0, 0, 2, 2, 1, 0, 0], dtype=int64)"
      ]
     },
     "execution_count": 17,
     "metadata": {},
     "output_type": "execute_result"
    }
   ],
   "source": [
    "# Get predictions based off of maximum probabilities per row.\n",
    "train_preds = fit_train.argmax(axis = 1)\n",
    "test_preds = fit_test.argmax(axis = 1)\n",
    "\n",
    "train_preds"
   ]
  },
  {
   "cell_type": "code",
   "execution_count": 18,
   "metadata": {
    "collapsed": false
   },
   "outputs": [
    {
     "data": {
      "text/plain": [
       "0        setosa\n",
       "1    versicolor\n",
       "2     virginica\n",
       "3     virginica\n",
       "4     virginica\n",
       "dtype: object"
      ]
     },
     "execution_count": 18,
     "metadata": {},
     "output_type": "execute_result"
    }
   ],
   "source": [
    "# Let's convert these back into words.\n",
    "train_preds = pd.Series(train_preds).map(lambda s: colnames[s])\n",
    "test_preds = pd.Series(test_preds).map(lambda s: colnames[s])\n",
    "\n",
    "train_preds.head()"
   ]
  },
  {
   "cell_type": "code",
   "execution_count": 19,
   "metadata": {
    "collapsed": false
   },
   "outputs": [
    {
     "name": "stdout",
     "output_type": "stream",
     "text": [
      "Predicted correctly:  83\n",
      "Total training obs:  105\n",
      "Training error:  0.790476190476\n"
     ]
    }
   ],
   "source": [
    "# Training error\n",
    "print('Predicted correctly: ', np.sum(train_preds == y_train))\n",
    "print('Total training obs: ', len(train_preds))\n",
    "print('Training error: ', np.mean(train_preds == y_train))"
   ]
  },
  {
   "cell_type": "code",
   "execution_count": 20,
   "metadata": {
    "collapsed": false
   },
   "outputs": [
    {
     "name": "stdout",
     "output_type": "stream",
     "text": [
      "Predicted correctly:  41\n",
      "Total test obs:  45\n",
      "Test error:  0.911111111111\n"
     ]
    }
   ],
   "source": [
    "# Testing error - nice!\n",
    "print('Predicted correctly: ', np.sum(test_preds == y_test))\n",
    "print('Total test obs: ', len(test_preds))\n",
    "print('Test error: ', np.mean(test_preds == y_test))"
   ]
  },
  {
   "cell_type": "markdown",
   "metadata": {},
   "source": [
    "### Cumulative Logistic Regression\n",
    "The cumulative logit is ideal for multi-class response variables that are _ordered_.  That is, the response is not a quantitative variable, but it definitely has a rank associated with it.  The cliche example is T-shirt sizes: Small, Medium, Large, etc.\n",
    "\n",
    "There are a few parametrizations of the cumulative logit, but the predominant one is parametrized as follows:\n",
    "\n",
    "$Y_i \\sim \\text{iid Mult}(1, \\mathbf{\\pi})$\n",
    "\n",
    "$\\gamma_j = \\text{P}(\\text{Category} \\le j) = \\pi_1 + \\cdots + \\pi_j$\n",
    "\n",
    "$\\text{logit}(\\gamma_1 = \\beta_{01} + \\beta_{11} x_1 + \\cdots + \\beta_{p1} x_p$\n",
    "\n",
    "$\\text{logit}(\\gamma_2) = \\beta_{02} + \\beta_{12} x_1 + \\cdots + \\beta_{p2} x_p$\n",
    "\n",
    "$\\cdots$\n",
    "\n",
    "$\\text{logit}(\\gamma_{K-1}) = \\beta_{0K-1} + \\beta_{1K-1} x_1 + \\cdots + \\beta_{pK-1} x_p$\n",
    "\n",
    "### Huh??\n",
    "Currently, there is no implementation of cumulative logistic regression in Python!  There is a good implementation in a Git repo [here](https://github.com/fabianp/minirank), but since it is difficult to install, I won't use it in this lecture.  If you are curious to see how this method works, please see the implementation in the R folder."
   ]
  }
 ],
 "metadata": {
  "anaconda-cloud": {},
  "kernelspec": {
   "display_name": "Python 3",
   "language": "python",
   "name": "python3"
  },
  "language_info": {
   "codemirror_mode": {
    "name": "ipython",
    "version": 3
   },
   "file_extension": ".py",
   "mimetype": "text/x-python",
   "name": "python",
   "nbconvert_exporter": "python",
   "pygments_lexer": "ipython3",
   "version": "3.5.1"
  }
 },
 "nbformat": 4,
 "nbformat_minor": 1
}
